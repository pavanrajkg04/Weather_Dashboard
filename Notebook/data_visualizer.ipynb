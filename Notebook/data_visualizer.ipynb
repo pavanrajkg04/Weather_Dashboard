{
 "cells": [
  {
   "cell_type": "code",
   "execution_count": 1,
   "metadata": {},
   "outputs": [],
   "source": [
    "import pandas as pd\n",
    "import duckdb as ddb\n",
    "import time"
   ]
  },
  {
   "cell_type": "code",
   "execution_count": 2,
   "metadata": {},
   "outputs": [],
   "source": [
    "# conn = ddb.connect('../weatherdata')\n",
    "# print(conn)\n",
    "\n"
   ]
  },
  {
   "cell_type": "code",
   "execution_count": 3,
   "metadata": {},
   "outputs": [],
   "source": [
    "# data_table = conn.execute('''\n",
    "#                              select * \n",
    "#                               from raw.DAILY_WEATHER_DATA\n",
    "#                               ''').fetch_df()\n",
    "# data_table"
   ]
  },
  {
   "cell_type": "code",
   "execution_count": 4,
   "metadata": {},
   "outputs": [],
   "source": [
    "def data_table_maker():\n",
    "    conn = ddb.connect('../weatherdata')\n",
    "    data_table = conn.execute('''\n",
    "                                select * \n",
    "                                from raw.DAILY_WEATHER_DATA\n",
    "                            ''').fetch_df()\n",
    "\n",
    "    conn.close()\n",
    "    data_table.to_excel('data_table.xlsx')\n",
    "    print(\"data Updated\")"
   ]
  },
  {
   "cell_type": "code",
   "execution_count": null,
   "metadata": {},
   "outputs": [
    {
     "name": "stdout",
     "output_type": "stream",
     "text": [
      "data Updated\n",
      "data Updated\n",
      "data Updated\n"
     ]
    },
    {
     "ename": "IOException",
     "evalue": "IO Error: File is already open in \nC:\\Users\\Administrator\\AppData\\Local\\Programs\\Python\\Python312\\python.exe (PID 19584)",
     "output_type": "error",
     "traceback": [
      "\u001b[1;31m---------------------------------------------------------------------------\u001b[0m",
      "\u001b[1;31mIOException\u001b[0m                               Traceback (most recent call last)",
      "Cell \u001b[1;32mIn[5], line 2\u001b[0m\n\u001b[0;32m      1\u001b[0m \u001b[38;5;28;01mwhile\u001b[39;00m \u001b[38;5;28;01mTrue\u001b[39;00m:\n\u001b[1;32m----> 2\u001b[0m     \u001b[43mdata_table_maker\u001b[49m\u001b[43m(\u001b[49m\u001b[43m)\u001b[49m\n\u001b[0;32m      3\u001b[0m     time\u001b[38;5;241m.\u001b[39msleep(\u001b[38;5;241m10\u001b[39m\u001b[38;5;241m*\u001b[39m\u001b[38;5;241m60\u001b[39m)\n",
      "Cell \u001b[1;32mIn[4], line 2\u001b[0m, in \u001b[0;36mdata_table_maker\u001b[1;34m()\u001b[0m\n\u001b[0;32m      1\u001b[0m \u001b[38;5;28;01mdef\u001b[39;00m \u001b[38;5;21mdata_table_maker\u001b[39m():\n\u001b[1;32m----> 2\u001b[0m     conn \u001b[38;5;241m=\u001b[39m \u001b[43mddb\u001b[49m\u001b[38;5;241;43m.\u001b[39;49m\u001b[43mconnect\u001b[49m\u001b[43m(\u001b[49m\u001b[38;5;124;43m'\u001b[39;49m\u001b[38;5;124;43m../weatherdata\u001b[39;49m\u001b[38;5;124;43m'\u001b[39;49m\u001b[43m)\u001b[49m\n\u001b[0;32m      3\u001b[0m     data_table \u001b[38;5;241m=\u001b[39m conn\u001b[38;5;241m.\u001b[39mexecute(\u001b[38;5;124m'''\u001b[39m\n\u001b[0;32m      4\u001b[0m \u001b[38;5;124m                                select * \u001b[39m\n\u001b[0;32m      5\u001b[0m \u001b[38;5;124m                                from raw.DAILY_WEATHER_DATA\u001b[39m\n\u001b[0;32m      6\u001b[0m \u001b[38;5;124m                            \u001b[39m\u001b[38;5;124m'''\u001b[39m)\u001b[38;5;241m.\u001b[39mfetch_df()\n\u001b[0;32m      8\u001b[0m     conn\u001b[38;5;241m.\u001b[39mclose()\n",
      "\u001b[1;31mIOException\u001b[0m: IO Error: File is already open in \nC:\\Users\\Administrator\\AppData\\Local\\Programs\\Python\\Python312\\python.exe (PID 19584)"
     ]
    }
   ],
   "source": [
    "while True:\n",
    "    data_table_maker()\n",
    "    time.sleep(30*60)"
   ]
  }
 ],
 "metadata": {
  "kernelspec": {
   "display_name": "venv",
   "language": "python",
   "name": "python3"
  },
  "language_info": {
   "codemirror_mode": {
    "name": "ipython",
    "version": 3
   },
   "file_extension": ".py",
   "mimetype": "text/x-python",
   "name": "python",
   "nbconvert_exporter": "python",
   "pygments_lexer": "ipython3",
   "version": "3.12.3"
  }
 },
 "nbformat": 4,
 "nbformat_minor": 2
}
