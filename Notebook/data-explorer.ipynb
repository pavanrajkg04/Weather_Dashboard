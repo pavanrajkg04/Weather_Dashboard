{
 "cells": [
  {
   "cell_type": "code",
   "execution_count": 1,
   "metadata": {},
   "outputs": [],
   "source": [
    "import pandas as pd\n",
    "import duckdb as ddb\n",
    "import json\n",
    "import schedule\n",
    "import time "
   ]
  },
  {
   "cell_type": "code",
   "execution_count": 2,
   "metadata": {},
   "outputs": [],
   "source": [
    "def update():\n",
    "    with open('response.json') as f:\n",
    "        data = json.load(f)\n",
    "    location_df = pd.DataFrame([data['location']])\n",
    "    weather_df = pd.DataFrame([data['current']])\n",
    "    weather_df\n",
    "    flattened_data = {**data[\"location\"], **data[\"current\"]}\n",
    "\n",
    "    # Convert to a DataFrame\n",
    "    df = pd.DataFrame([flattened_data])\n",
    "    df = df.drop(columns='condition')\n",
    "    df.columns.value_counts().sum()\n",
    "    conn = ddb.connect('../weatherdata')\n",
    "    conn.execute(\"CREATE SCHEMA IF NOT EXISTS raw\")\n",
    "    conn.execute(\"\"\"\n",
    "             CREATE TABLE IF NOT EXISTS raw.DAILY_WEATHER_DATA (\n",
    "                    name VARCHAR(100),\n",
    "                    region VARCHAR(100),\n",
    "                    country VARCHAR(100),\n",
    "                    lat FLOAT,\n",
    "                    lon FLOAT,\n",
    "                    tz_id VARCHAR(100),\n",
    "                    localtime_epoch BIGINT,\n",
    "                    localtime DATETIME,\n",
    "                    last_updated_epoch BIGINT,\n",
    "                    last_updated DATETIME,\n",
    "                    temp_c FLOAT,\n",
    "                    temp_f FLOAT,\n",
    "                    is_day TINYINT,\n",
    "                    wind_mph FLOAT,\n",
    "                    wind_kph FLOAT,\n",
    "                    wind_degree SMALLINT,\n",
    "                    wind_dir VARCHAR(10),\n",
    "                    pressure_mb FLOAT,\n",
    "                    pressure_in FLOAT,\n",
    "                    precip_mm FLOAT,\n",
    "                    precip_in FLOAT,\n",
    "                    humidity TINYINT,\n",
    "                    cloud TINYINT,\n",
    "                    feelslike_c FLOAT,\n",
    "                    feelslike_f FLOAT,\n",
    "                    windchill_c FLOAT,\n",
    "                    windchill_f FLOAT,\n",
    "                    heatindex_c FLOAT,\n",
    "                    heatindex_f FLOAT,\n",
    "                    dewpoint_c FLOAT,\n",
    "                    dewpoint_f FLOAT,\n",
    "                    vis_km FLOAT,\n",
    "                    vis_miles FLOAT,\n",
    "                    uv FLOAT,\n",
    "                    gust_mph FLOAT,\n",
    "                    gust_kph FLOAT,\n",
    "                    PRIMARY KEY (localtime_epoch)\n",
    "                );\n",
    "\n",
    "             \"\"\")\n",
    "    conn.execute(\"INSERT INTO raw.DAILY_WEATHER_DATA SELECT * FROM df\")\n",
    "    conn.close()\n",
    "    print(\"Db updated\")\n",
    "\n",
    "    "
   ]
  },
  {
   "cell_type": "code",
   "execution_count": 3,
   "metadata": {},
   "outputs": [],
   "source": [
    "# with open('response.json') as f:\n",
    "#     data = json.load(f)"
   ]
  },
  {
   "cell_type": "code",
   "execution_count": 4,
   "metadata": {},
   "outputs": [],
   "source": [
    "# location_df = pd.DataFrame([data['location']])\n",
    "# weather_df = pd.DataFrame([data['current']])\n",
    "# weather_df"
   ]
  },
  {
   "cell_type": "code",
   "execution_count": 5,
   "metadata": {},
   "outputs": [],
   "source": [
    "# flattened_data = {**data[\"location\"], **data[\"current\"]}\n",
    "\n",
    "# # Convert to a DataFrame\n",
    "# df = pd.DataFrame([flattened_data])\n",
    "# df"
   ]
  },
  {
   "cell_type": "code",
   "execution_count": 6,
   "metadata": {},
   "outputs": [],
   "source": [
    "# df.columns"
   ]
  },
  {
   "cell_type": "code",
   "execution_count": 7,
   "metadata": {},
   "outputs": [],
   "source": [
    "# df = df.drop(columns='condition')"
   ]
  },
  {
   "cell_type": "code",
   "execution_count": 8,
   "metadata": {},
   "outputs": [],
   "source": [
    "# df.columns.value_counts().sum()"
   ]
  },
  {
   "cell_type": "code",
   "execution_count": 9,
   "metadata": {},
   "outputs": [],
   "source": [
    "# conn = ddb.connect('../weatherdata')\n"
   ]
  },
  {
   "cell_type": "code",
   "execution_count": 10,
   "metadata": {},
   "outputs": [],
   "source": [
    "# conn.execute(\"CREATE SCHEMA IF NOT EXISTS raw\")"
   ]
  },
  {
   "cell_type": "code",
   "execution_count": 11,
   "metadata": {},
   "outputs": [],
   "source": [
    "# conn.execute(\"\"\"\n",
    "#              CREATE TABLE IF NOT EXISTS raw.DAILY_WEATHER_DATA (\n",
    "#                     name VARCHAR(100),\n",
    "#                     region VARCHAR(100),\n",
    "#                     country VARCHAR(100),\n",
    "#                     lat FLOAT,\n",
    "#                     lon FLOAT,\n",
    "#                     tz_id VARCHAR(100),\n",
    "#                     localtime_epoch BIGINT,\n",
    "#                     localtime DATETIME,\n",
    "#                     last_updated_epoch BIGINT,\n",
    "#                     last_updated DATETIME,\n",
    "#                     temp_c FLOAT,\n",
    "#                     temp_f FLOAT,\n",
    "#                     is_day TINYINT,\n",
    "#                     wind_mph FLOAT,\n",
    "#                     wind_kph FLOAT,\n",
    "#                     wind_degree SMALLINT,\n",
    "#                     wind_dir VARCHAR(10),\n",
    "#                     pressure_mb FLOAT,\n",
    "#                     pressure_in FLOAT,\n",
    "#                     precip_mm FLOAT,\n",
    "#                     precip_in FLOAT,\n",
    "#                     humidity TINYINT,\n",
    "#                     cloud TINYINT,\n",
    "#                     feelslike_c FLOAT,\n",
    "#                     feelslike_f FLOAT,\n",
    "#                     windchill_c FLOAT,\n",
    "#                     windchill_f FLOAT,\n",
    "#                     heatindex_c FLOAT,\n",
    "#                     heatindex_f FLOAT,\n",
    "#                     dewpoint_c FLOAT,\n",
    "#                     dewpoint_f FLOAT,\n",
    "#                     vis_km FLOAT,\n",
    "#                     vis_miles FLOAT,\n",
    "#                     uv FLOAT,\n",
    "#                     gust_mph FLOAT,\n",
    "#                     gust_kph FLOAT,\n",
    "#                     PRIMARY KEY (localtime_epoch)\n",
    "#                 );\n",
    "\n",
    "#              \"\"\")"
   ]
  },
  {
   "cell_type": "code",
   "execution_count": 12,
   "metadata": {},
   "outputs": [],
   "source": [
    "# conn.execute(\"INSERT INTO raw.DAILY_WEATHER_DATA SELECT * FROM df\")"
   ]
  },
  {
   "cell_type": "code",
   "execution_count": 13,
   "metadata": {},
   "outputs": [],
   "source": [
    "# conn.close()"
   ]
  },
  {
   "cell_type": "code",
   "execution_count": null,
   "metadata": {},
   "outputs": [
    {
     "name": "stdout",
     "output_type": "stream",
     "text": [
      "Db updated\n",
      "Db updated\n"
     ]
    }
   ],
   "source": [
    "#schedule.every(33).minutes.do(update)\n",
    "\n",
    "while True:\n",
    "    update()\n",
    "    time.sleep(30*60)\n",
    "#update()"
   ]
  }
 ],
 "metadata": {
  "kernelspec": {
   "display_name": "venv",
   "language": "python",
   "name": "python3"
  },
  "language_info": {
   "codemirror_mode": {
    "name": "ipython",
    "version": 3
   },
   "file_extension": ".py",
   "mimetype": "text/x-python",
   "name": "python",
   "nbconvert_exporter": "python",
   "pygments_lexer": "ipython3",
   "version": "3.12.3"
  }
 },
 "nbformat": 4,
 "nbformat_minor": 2
}
