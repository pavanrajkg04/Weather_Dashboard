{
 "cells": [
  {
   "cell_type": "code",
   "execution_count": 41,
   "metadata": {},
   "outputs": [],
   "source": [
    "import pandas as pd\n",
    "import duckdb as ddb\n",
    "import json"
   ]
  },
  {
   "cell_type": "code",
   "execution_count": null,
   "metadata": {},
   "outputs": [],
   "source": [
    "with open('response.json') as f:\n",
    "    data = json.load(f)"
   ]
  },
  {
   "cell_type": "code",
   "execution_count": 43,
   "metadata": {},
   "outputs": [
    {
     "data": {
      "text/html": [
       "<div>\n",
       "<style scoped>\n",
       "    .dataframe tbody tr th:only-of-type {\n",
       "        vertical-align: middle;\n",
       "    }\n",
       "\n",
       "    .dataframe tbody tr th {\n",
       "        vertical-align: top;\n",
       "    }\n",
       "\n",
       "    .dataframe thead th {\n",
       "        text-align: right;\n",
       "    }\n",
       "</style>\n",
       "<table border=\"1\" class=\"dataframe\">\n",
       "  <thead>\n",
       "    <tr style=\"text-align: right;\">\n",
       "      <th></th>\n",
       "      <th>last_updated_epoch</th>\n",
       "      <th>last_updated</th>\n",
       "      <th>temp_c</th>\n",
       "      <th>temp_f</th>\n",
       "      <th>is_day</th>\n",
       "      <th>condition</th>\n",
       "      <th>wind_mph</th>\n",
       "      <th>wind_kph</th>\n",
       "      <th>wind_degree</th>\n",
       "      <th>wind_dir</th>\n",
       "      <th>...</th>\n",
       "      <th>windchill_f</th>\n",
       "      <th>heatindex_c</th>\n",
       "      <th>heatindex_f</th>\n",
       "      <th>dewpoint_c</th>\n",
       "      <th>dewpoint_f</th>\n",
       "      <th>vis_km</th>\n",
       "      <th>vis_miles</th>\n",
       "      <th>uv</th>\n",
       "      <th>gust_mph</th>\n",
       "      <th>gust_kph</th>\n",
       "    </tr>\n",
       "  </thead>\n",
       "  <tbody>\n",
       "    <tr>\n",
       "      <th>0</th>\n",
       "      <td>1732945500</td>\n",
       "      <td>2024-11-30 11:15</td>\n",
       "      <td>24.2</td>\n",
       "      <td>75.6</td>\n",
       "      <td>1</td>\n",
       "      <td>{'text': 'Mist', 'icon': '//cdn.weatherapi.com...</td>\n",
       "      <td>15.2</td>\n",
       "      <td>24.5</td>\n",
       "      <td>10</td>\n",
       "      <td>N</td>\n",
       "      <td>...</td>\n",
       "      <td>70.3</td>\n",
       "      <td>24.3</td>\n",
       "      <td>75.7</td>\n",
       "      <td>18.2</td>\n",
       "      <td>64.7</td>\n",
       "      <td>4.0</td>\n",
       "      <td>2.0</td>\n",
       "      <td>2.9</td>\n",
       "      <td>19.4</td>\n",
       "      <td>31.2</td>\n",
       "    </tr>\n",
       "  </tbody>\n",
       "</table>\n",
       "<p>1 rows × 29 columns</p>\n",
       "</div>"
      ],
      "text/plain": [
       "   last_updated_epoch      last_updated  temp_c  temp_f  is_day  \\\n",
       "0          1732945500  2024-11-30 11:15    24.2    75.6       1   \n",
       "\n",
       "                                           condition  wind_mph  wind_kph  \\\n",
       "0  {'text': 'Mist', 'icon': '//cdn.weatherapi.com...      15.2      24.5   \n",
       "\n",
       "   wind_degree wind_dir  ...  windchill_f  heatindex_c  heatindex_f  \\\n",
       "0           10        N  ...         70.3         24.3         75.7   \n",
       "\n",
       "   dewpoint_c  dewpoint_f  vis_km  vis_miles   uv  gust_mph  gust_kph  \n",
       "0        18.2        64.7     4.0        2.0  2.9      19.4      31.2  \n",
       "\n",
       "[1 rows x 29 columns]"
      ]
     },
     "execution_count": 43,
     "metadata": {},
     "output_type": "execute_result"
    }
   ],
   "source": [
    "location_df = pd.DataFrame([data['location']])\n",
    "weather_df = pd.DataFrame([data['current']])\n",
    "weather_df"
   ]
  },
  {
   "cell_type": "code",
   "execution_count": 44,
   "metadata": {},
   "outputs": [
    {
     "data": {
      "text/html": [
       "<div>\n",
       "<style scoped>\n",
       "    .dataframe tbody tr th:only-of-type {\n",
       "        vertical-align: middle;\n",
       "    }\n",
       "\n",
       "    .dataframe tbody tr th {\n",
       "        vertical-align: top;\n",
       "    }\n",
       "\n",
       "    .dataframe thead th {\n",
       "        text-align: right;\n",
       "    }\n",
       "</style>\n",
       "<table border=\"1\" class=\"dataframe\">\n",
       "  <thead>\n",
       "    <tr style=\"text-align: right;\">\n",
       "      <th></th>\n",
       "      <th>name</th>\n",
       "      <th>region</th>\n",
       "      <th>country</th>\n",
       "      <th>lat</th>\n",
       "      <th>lon</th>\n",
       "      <th>tz_id</th>\n",
       "      <th>localtime_epoch</th>\n",
       "      <th>localtime</th>\n",
       "      <th>last_updated_epoch</th>\n",
       "      <th>last_updated</th>\n",
       "      <th>...</th>\n",
       "      <th>windchill_f</th>\n",
       "      <th>heatindex_c</th>\n",
       "      <th>heatindex_f</th>\n",
       "      <th>dewpoint_c</th>\n",
       "      <th>dewpoint_f</th>\n",
       "      <th>vis_km</th>\n",
       "      <th>vis_miles</th>\n",
       "      <th>uv</th>\n",
       "      <th>gust_mph</th>\n",
       "      <th>gust_kph</th>\n",
       "    </tr>\n",
       "  </thead>\n",
       "  <tbody>\n",
       "    <tr>\n",
       "      <th>0</th>\n",
       "      <td>Bengaluru</td>\n",
       "      <td>Karnataka</td>\n",
       "      <td>India</td>\n",
       "      <td>12.9833</td>\n",
       "      <td>77.5833</td>\n",
       "      <td>Asia/Kolkata</td>\n",
       "      <td>1732946328</td>\n",
       "      <td>2024-11-30 11:28</td>\n",
       "      <td>1732945500</td>\n",
       "      <td>2024-11-30 11:15</td>\n",
       "      <td>...</td>\n",
       "      <td>70.3</td>\n",
       "      <td>24.3</td>\n",
       "      <td>75.7</td>\n",
       "      <td>18.2</td>\n",
       "      <td>64.7</td>\n",
       "      <td>4.0</td>\n",
       "      <td>2.0</td>\n",
       "      <td>2.9</td>\n",
       "      <td>19.4</td>\n",
       "      <td>31.2</td>\n",
       "    </tr>\n",
       "  </tbody>\n",
       "</table>\n",
       "<p>1 rows × 37 columns</p>\n",
       "</div>"
      ],
      "text/plain": [
       "        name     region country      lat      lon         tz_id  \\\n",
       "0  Bengaluru  Karnataka   India  12.9833  77.5833  Asia/Kolkata   \n",
       "\n",
       "   localtime_epoch         localtime  last_updated_epoch      last_updated  \\\n",
       "0       1732946328  2024-11-30 11:28          1732945500  2024-11-30 11:15   \n",
       "\n",
       "   ...  windchill_f  heatindex_c  heatindex_f dewpoint_c  dewpoint_f  vis_km  \\\n",
       "0  ...         70.3         24.3         75.7       18.2        64.7     4.0   \n",
       "\n",
       "   vis_miles   uv  gust_mph  gust_kph  \n",
       "0        2.0  2.9      19.4      31.2  \n",
       "\n",
       "[1 rows x 37 columns]"
      ]
     },
     "execution_count": 44,
     "metadata": {},
     "output_type": "execute_result"
    }
   ],
   "source": [
    "flattened_data = {**data[\"location\"], **data[\"current\"]}\n",
    "\n",
    "# Convert to a DataFrame\n",
    "df = pd.DataFrame([flattened_data])\n",
    "df"
   ]
  },
  {
   "cell_type": "code",
   "execution_count": 45,
   "metadata": {},
   "outputs": [
    {
     "data": {
      "text/plain": [
       "Index(['name', 'region', 'country', 'lat', 'lon', 'tz_id', 'localtime_epoch',\n",
       "       'localtime', 'last_updated_epoch', 'last_updated', 'temp_c', 'temp_f',\n",
       "       'is_day', 'condition', 'wind_mph', 'wind_kph', 'wind_degree',\n",
       "       'wind_dir', 'pressure_mb', 'pressure_in', 'precip_mm', 'precip_in',\n",
       "       'humidity', 'cloud', 'feelslike_c', 'feelslike_f', 'windchill_c',\n",
       "       'windchill_f', 'heatindex_c', 'heatindex_f', 'dewpoint_c', 'dewpoint_f',\n",
       "       'vis_km', 'vis_miles', 'uv', 'gust_mph', 'gust_kph'],\n",
       "      dtype='object')"
      ]
     },
     "execution_count": 45,
     "metadata": {},
     "output_type": "execute_result"
    }
   ],
   "source": [
    "df.columns"
   ]
  },
  {
   "cell_type": "code",
   "execution_count": 46,
   "metadata": {},
   "outputs": [],
   "source": [
    "df = df.drop(columns='condition')"
   ]
  },
  {
   "cell_type": "code",
   "execution_count": 47,
   "metadata": {},
   "outputs": [
    {
     "data": {
      "text/plain": [
       "np.int64(36)"
      ]
     },
     "execution_count": 47,
     "metadata": {},
     "output_type": "execute_result"
    }
   ],
   "source": [
    "df.columns.value_counts().sum()"
   ]
  },
  {
   "cell_type": "code",
   "execution_count": 48,
   "metadata": {},
   "outputs": [],
   "source": [
    "conn = ddb.connect('../weatherdata')\n"
   ]
  },
  {
   "cell_type": "code",
   "execution_count": 49,
   "metadata": {},
   "outputs": [
    {
     "data": {
      "text/plain": [
       "<duckdb.duckdb.DuckDBPyConnection at 0x17cfd8c84f0>"
      ]
     },
     "execution_count": 49,
     "metadata": {},
     "output_type": "execute_result"
    }
   ],
   "source": [
    "conn.execute(\"CREATE SCHEMA IF NOT EXISTS raw\")"
   ]
  },
  {
   "cell_type": "code",
   "execution_count": 50,
   "metadata": {},
   "outputs": [
    {
     "data": {
      "text/plain": [
       "<duckdb.duckdb.DuckDBPyConnection at 0x17cfd8c84f0>"
      ]
     },
     "execution_count": 50,
     "metadata": {},
     "output_type": "execute_result"
    }
   ],
   "source": [
    "conn.execute(\"\"\"\n",
    "             CREATE TABLE IF NOT EXISTS raw.DAILY_WEATHER_DATA (\n",
    "                    name VARCHAR(100),\n",
    "                    region VARCHAR(100),\n",
    "                    country VARCHAR(100),\n",
    "                    lat FLOAT,\n",
    "                    lon FLOAT,\n",
    "                    tz_id VARCHAR(100),\n",
    "                    localtime_epoch BIGINT,\n",
    "                    localtime DATETIME,\n",
    "                    last_updated_epoch BIGINT,\n",
    "                    last_updated DATETIME,\n",
    "                    temp_c FLOAT,\n",
    "                    temp_f FLOAT,\n",
    "                    is_day TINYINT,\n",
    "                    wind_mph FLOAT,\n",
    "                    wind_kph FLOAT,\n",
    "                    wind_degree SMALLINT,\n",
    "                    wind_dir VARCHAR(10),\n",
    "                    pressure_mb FLOAT,\n",
    "                    pressure_in FLOAT,\n",
    "                    precip_mm FLOAT,\n",
    "                    precip_in FLOAT,\n",
    "                    humidity TINYINT,\n",
    "                    cloud TINYINT,\n",
    "                    feelslike_c FLOAT,\n",
    "                    feelslike_f FLOAT,\n",
    "                    windchill_c FLOAT,\n",
    "                    windchill_f FLOAT,\n",
    "                    heatindex_c FLOAT,\n",
    "                    heatindex_f FLOAT,\n",
    "                    dewpoint_c FLOAT,\n",
    "                    dewpoint_f FLOAT,\n",
    "                    vis_km FLOAT,\n",
    "                    vis_miles FLOAT,\n",
    "                    uv FLOAT,\n",
    "                    gust_mph FLOAT,\n",
    "                    gust_kph FLOAT,\n",
    "                    PRIMARY KEY (localtime_epoch)\n",
    "                );\n",
    "\n",
    "             \"\"\")"
   ]
  },
  {
   "cell_type": "code",
   "execution_count": 51,
   "metadata": {},
   "outputs": [
    {
     "data": {
      "text/plain": [
       "<duckdb.duckdb.DuckDBPyConnection at 0x17cfd8c84f0>"
      ]
     },
     "execution_count": 51,
     "metadata": {},
     "output_type": "execute_result"
    }
   ],
   "source": [
    "conn.execute(\"INSERT INTO raw.DAILY_WEATHER_DATA SELECT * FROM df\")"
   ]
  },
  {
   "cell_type": "code",
   "execution_count": 52,
   "metadata": {},
   "outputs": [],
   "source": [
    "conn.close()"
   ]
  }
 ],
 "metadata": {
  "kernelspec": {
   "display_name": "venv",
   "language": "python",
   "name": "python3"
  },
  "language_info": {
   "codemirror_mode": {
    "name": "ipython",
    "version": 3
   },
   "file_extension": ".py",
   "mimetype": "text/x-python",
   "name": "python",
   "nbconvert_exporter": "python",
   "pygments_lexer": "ipython3",
   "version": "3.12.3"
  }
 },
 "nbformat": 4,
 "nbformat_minor": 2
}
