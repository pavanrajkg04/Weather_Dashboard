{
 "cells": [
  {
   "cell_type": "code",
   "execution_count": 4,
   "metadata": {},
   "outputs": [],
   "source": [
    "import pandas as pd\n",
    "import streamlit as st\n",
    "import duckdb as ddb"
   ]
  },
  {
   "cell_type": "code",
   "execution_count": 6,
   "metadata": {},
   "outputs": [],
   "source": [
    "conn = ddb.connect('../weatherdata')"
   ]
  },
  {
   "cell_type": "code",
   "execution_count": 11,
   "metadata": {},
   "outputs": [],
   "source": [
    "data_table = conn.execute('''\n",
    "             select * from raw.DAILY_WEATHER_DATA\n",
    "             ''').fetch_df()"
   ]
  },
  {
   "cell_type": "code",
   "execution_count": 12,
   "metadata": {},
   "outputs": [
    {
     "data": {
      "text/plain": [
       "Index(['name', 'region', 'country', 'lat', 'lon', 'tz_id', 'localtime_epoch',\n",
       "       'localtime', 'last_updated_epoch', 'last_updated', 'temp_c', 'temp_f',\n",
       "       'is_day', 'wind_mph', 'wind_kph', 'wind_degree', 'wind_dir',\n",
       "       'pressure_mb', 'pressure_in', 'precip_mm', 'precip_in', 'humidity',\n",
       "       'cloud', 'feelslike_c', 'feelslike_f', 'windchill_c', 'windchill_f',\n",
       "       'heatindex_c', 'heatindex_f', 'dewpoint_c', 'dewpoint_f', 'vis_km',\n",
       "       'vis_miles', 'uv', 'gust_mph', 'gust_kph'],\n",
       "      dtype='object')"
      ]
     },
     "execution_count": 12,
     "metadata": {},
     "output_type": "execute_result"
    }
   ],
   "source": [
    "data_table.columns"
   ]
  },
  {
   "cell_type": "code",
   "execution_count": null,
   "metadata": {},
   "outputs": [],
   "source": []
  }
 ],
 "metadata": {
  "kernelspec": {
   "display_name": "venv",
   "language": "python",
   "name": "python3"
  },
  "language_info": {
   "codemirror_mode": {
    "name": "ipython",
    "version": 3
   },
   "file_extension": ".py",
   "mimetype": "text/x-python",
   "name": "python",
   "nbconvert_exporter": "python",
   "pygments_lexer": "ipython3",
   "version": "3.12.3"
  }
 },
 "nbformat": 4,
 "nbformat_minor": 2
}
