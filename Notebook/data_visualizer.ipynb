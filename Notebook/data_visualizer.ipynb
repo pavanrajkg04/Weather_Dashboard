{
 "cells": [
  {
   "cell_type": "code",
   "execution_count": 1,
   "metadata": {},
   "outputs": [],
   "source": [
    "import pandas as pd\n",
    "import duckdb as ddb\n",
    "import time"
   ]
  },
  {
   "cell_type": "code",
   "execution_count": 2,
   "metadata": {},
   "outputs": [],
   "source": [
    "# conn = ddb.connect('../weatherdata')\n",
    "# print(conn)\n",
    "\n"
   ]
  },
  {
   "cell_type": "code",
   "execution_count": 3,
   "metadata": {},
   "outputs": [],
   "source": [
    "# data_table = conn.execute('''\n",
    "#                              select * \n",
    "#                               from raw.DAILY_WEATHER_DATA\n",
    "#                               ''').fetch_df()\n",
    "# data_table"
   ]
  },
  {
   "cell_type": "code",
   "execution_count": 4,
   "metadata": {},
   "outputs": [],
   "source": [
    "def data_table_maker():\n",
    "    conn = ddb.connect('../weatherdata')\n",
    "    data_table = conn.execute('''\n",
    "                                select * \n",
    "                                from raw.DAILY_WEATHER_DATA\n",
    "                            ''').fetch_df()\n",
    "\n",
    "    conn.close()\n",
    "    data_table.to_excel('data_table.xlsx')\n",
    "    print(\"data Updated\")"
   ]
  },
  {
   "cell_type": "code",
   "execution_count": null,
   "metadata": {},
   "outputs": [
    {
     "name": "stdout",
     "output_type": "stream",
     "text": [
      "data Updated\n"
     ]
    }
   ],
   "source": [
    "while True:\n",
    "    data_table_maker()\n",
    "    time.sleep(10*60)"
   ]
  }
 ],
 "metadata": {
  "kernelspec": {
   "display_name": "venv",
   "language": "python",
   "name": "python3"
  },
  "language_info": {
   "codemirror_mode": {
    "name": "ipython",
    "version": 3
   },
   "file_extension": ".py",
   "mimetype": "text/x-python",
   "name": "python",
   "nbconvert_exporter": "python",
   "pygments_lexer": "ipython3",
   "version": "3.12.3"
  }
 },
 "nbformat": 4,
 "nbformat_minor": 2
}
