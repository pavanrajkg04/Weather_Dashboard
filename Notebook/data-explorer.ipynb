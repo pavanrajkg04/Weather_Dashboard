{
 "cells": [
  {
   "cell_type": "code",
   "execution_count": 3,
   "metadata": {},
   "outputs": [],
   "source": [
    "import pandas as pd\n",
    "import duckdb as ddb\n",
    "import json\n",
    "import schedule\n",
    "import time "
   ]
  },
  {
   "cell_type": "code",
   "execution_count": 4,
   "metadata": {},
   "outputs": [],
   "source": [
    "def update():\n",
    "    with open('response.json') as f:\n",
    "        data = json.load(f)\n",
    "    location_df = pd.DataFrame([data['location']])\n",
    "    weather_df = pd.DataFrame([data['current']])\n",
    "    weather_df\n",
    "    flattened_data = {**data[\"location\"], **data[\"current\"]}\n",
    "\n",
    "    # Convert to a DataFrame\n",
    "    df = pd.DataFrame([flattened_data])\n",
    "    df = df.drop(columns='condition')\n",
    "    df.columns.value_counts().sum()\n",
    "    conn = ddb.connect('../weatherdata')\n",
    "    conn.execute(\"CREATE SCHEMA IF NOT EXISTS raw\")\n",
    "    conn.execute(\"\"\"\n",
    "             CREATE TABLE IF NOT EXISTS raw.DAILY_WEATHER_DATA (\n",
    "                    name VARCHAR(100),\n",
    "                    region VARCHAR(100),\n",
    "                    country VARCHAR(100),\n",
    "                    lat FLOAT,\n",
    "                    lon FLOAT,\n",
    "                    tz_id VARCHAR(100),\n",
    "                    localtime_epoch BIGINT,\n",
    "                    localtime DATETIME,\n",
    "                    last_updated_epoch BIGINT,\n",
    "                    last_updated DATETIME,\n",
    "                    temp_c FLOAT,\n",
    "                    temp_f FLOAT,\n",
    "                    is_day TINYINT,\n",
    "                    wind_mph FLOAT,\n",
    "                    wind_kph FLOAT,\n",
    "                    wind_degree SMALLINT,\n",
    "                    wind_dir VARCHAR(10),\n",
    "                    pressure_mb FLOAT,\n",
    "                    pressure_in FLOAT,\n",
    "                    precip_mm FLOAT,\n",
    "                    precip_in FLOAT,\n",
    "                    humidity TINYINT,\n",
    "                    cloud TINYINT,\n",
    "                    feelslike_c FLOAT,\n",
    "                    feelslike_f FLOAT,\n",
    "                    windchill_c FLOAT,\n",
    "                    windchill_f FLOAT,\n",
    "                    heatindex_c FLOAT,\n",
    "                    heatindex_f FLOAT,\n",
    "                    dewpoint_c FLOAT,\n",
    "                    dewpoint_f FLOAT,\n",
    "                    vis_km FLOAT,\n",
    "                    vis_miles FLOAT,\n",
    "                    uv FLOAT,\n",
    "                    gust_mph FLOAT,\n",
    "                    gust_kph FLOAT,\n",
    "                    PRIMARY KEY (localtime_epoch)\n",
    "                );\n",
    "\n",
    "             \"\"\")\n",
    "    conn.execute(\"INSERT INTO raw.DAILY_WEATHER_DATA SELECT * FROM df\")\n",
    "    conn.close()\n",
    "\n",
    "    "
   ]
  },
  {
   "cell_type": "code",
   "execution_count": 5,
   "metadata": {},
   "outputs": [],
   "source": [
    "# with open('response.json') as f:\n",
    "#     data = json.load(f)"
   ]
  },
  {
   "cell_type": "code",
   "execution_count": 6,
   "metadata": {},
   "outputs": [],
   "source": [
    "# location_df = pd.DataFrame([data['location']])\n",
    "# weather_df = pd.DataFrame([data['current']])\n",
    "# weather_df"
   ]
  },
  {
   "cell_type": "code",
   "execution_count": 7,
   "metadata": {},
   "outputs": [],
   "source": [
    "# flattened_data = {**data[\"location\"], **data[\"current\"]}\n",
    "\n",
    "# # Convert to a DataFrame\n",
    "# df = pd.DataFrame([flattened_data])\n",
    "# df"
   ]
  },
  {
   "cell_type": "code",
   "execution_count": 8,
   "metadata": {},
   "outputs": [],
   "source": [
    "# df.columns"
   ]
  },
  {
   "cell_type": "code",
   "execution_count": 9,
   "metadata": {},
   "outputs": [],
   "source": [
    "# df = df.drop(columns='condition')"
   ]
  },
  {
   "cell_type": "code",
   "execution_count": 10,
   "metadata": {},
   "outputs": [],
   "source": [
    "# df.columns.value_counts().sum()"
   ]
  },
  {
   "cell_type": "code",
   "execution_count": 11,
   "metadata": {},
   "outputs": [],
   "source": [
    "# conn = ddb.connect('../weatherdata')\n"
   ]
  },
  {
   "cell_type": "code",
   "execution_count": 12,
   "metadata": {},
   "outputs": [],
   "source": [
    "# conn.execute(\"CREATE SCHEMA IF NOT EXISTS raw\")"
   ]
  },
  {
   "cell_type": "code",
   "execution_count": 13,
   "metadata": {},
   "outputs": [],
   "source": [
    "# conn.execute(\"\"\"\n",
    "#              CREATE TABLE IF NOT EXISTS raw.DAILY_WEATHER_DATA (\n",
    "#                     name VARCHAR(100),\n",
    "#                     region VARCHAR(100),\n",
    "#                     country VARCHAR(100),\n",
    "#                     lat FLOAT,\n",
    "#                     lon FLOAT,\n",
    "#                     tz_id VARCHAR(100),\n",
    "#                     localtime_epoch BIGINT,\n",
    "#                     localtime DATETIME,\n",
    "#                     last_updated_epoch BIGINT,\n",
    "#                     last_updated DATETIME,\n",
    "#                     temp_c FLOAT,\n",
    "#                     temp_f FLOAT,\n",
    "#                     is_day TINYINT,\n",
    "#                     wind_mph FLOAT,\n",
    "#                     wind_kph FLOAT,\n",
    "#                     wind_degree SMALLINT,\n",
    "#                     wind_dir VARCHAR(10),\n",
    "#                     pressure_mb FLOAT,\n",
    "#                     pressure_in FLOAT,\n",
    "#                     precip_mm FLOAT,\n",
    "#                     precip_in FLOAT,\n",
    "#                     humidity TINYINT,\n",
    "#                     cloud TINYINT,\n",
    "#                     feelslike_c FLOAT,\n",
    "#                     feelslike_f FLOAT,\n",
    "#                     windchill_c FLOAT,\n",
    "#                     windchill_f FLOAT,\n",
    "#                     heatindex_c FLOAT,\n",
    "#                     heatindex_f FLOAT,\n",
    "#                     dewpoint_c FLOAT,\n",
    "#                     dewpoint_f FLOAT,\n",
    "#                     vis_km FLOAT,\n",
    "#                     vis_miles FLOAT,\n",
    "#                     uv FLOAT,\n",
    "#                     gust_mph FLOAT,\n",
    "#                     gust_kph FLOAT,\n",
    "#                     PRIMARY KEY (localtime_epoch)\n",
    "#                 );\n",
    "\n",
    "#              \"\"\")"
   ]
  },
  {
   "cell_type": "code",
   "execution_count": 14,
   "metadata": {},
   "outputs": [],
   "source": [
    "# conn.execute(\"INSERT INTO raw.DAILY_WEATHER_DATA SELECT * FROM df\")"
   ]
  },
  {
   "cell_type": "code",
   "execution_count": 15,
   "metadata": {},
   "outputs": [],
   "source": [
    "# conn.close()"
   ]
  },
  {
   "cell_type": "code",
   "execution_count": 17,
   "metadata": {},
   "outputs": [
    {
     "ename": "ConstraintException",
     "evalue": "Constraint Error: Duplicate key \"localtime_epoch: 1733288461\" violates primary key constraint. If this is an unexpected constraint violation please double check with the known index limitations section in our documentation (https://duckdb.org/docs/sql/indexes).",
     "output_type": "error",
     "traceback": [
      "\u001b[1;31m---------------------------------------------------------------------------\u001b[0m",
      "\u001b[1;31mConstraintException\u001b[0m                       Traceback (most recent call last)",
      "Cell \u001b[1;32mIn[17], line 4\u001b[0m\n\u001b[0;32m      1\u001b[0m schedule\u001b[38;5;241m.\u001b[39mevery(\u001b[38;5;241m40\u001b[39m)\u001b[38;5;241m.\u001b[39mseconds\u001b[38;5;241m.\u001b[39mdo(update)\n\u001b[0;32m      3\u001b[0m \u001b[38;5;28;01mwhile\u001b[39;00m \u001b[38;5;28;01mTrue\u001b[39;00m:\n\u001b[1;32m----> 4\u001b[0m     \u001b[43mschedule\u001b[49m\u001b[38;5;241;43m.\u001b[39;49m\u001b[43mrun_pending\u001b[49m\u001b[43m(\u001b[49m\u001b[43m)\u001b[49m\n\u001b[0;32m      5\u001b[0m     time\u001b[38;5;241m.\u001b[39msleep(\u001b[38;5;241m1\u001b[39m)\n\u001b[0;32m      6\u001b[0m \u001b[38;5;66;03m#update()\u001b[39;00m\n",
      "File \u001b[1;32mc:\\Users\\Administrator\\Documents\\GitHub\\Weather_Dashboard\\venv\\Lib\\site-packages\\schedule\\__init__.py:854\u001b[0m, in \u001b[0;36mrun_pending\u001b[1;34m()\u001b[0m\n\u001b[0;32m    850\u001b[0m \u001b[38;5;28;01mdef\u001b[39;00m \u001b[38;5;21mrun_pending\u001b[39m() \u001b[38;5;241m-\u001b[39m\u001b[38;5;241m>\u001b[39m \u001b[38;5;28;01mNone\u001b[39;00m:\n\u001b[0;32m    851\u001b[0m \u001b[38;5;250m    \u001b[39m\u001b[38;5;124;03m\"\"\"Calls :meth:`run_pending <Scheduler.run_pending>` on the\u001b[39;00m\n\u001b[0;32m    852\u001b[0m \u001b[38;5;124;03m    :data:`default scheduler instance <default_scheduler>`.\u001b[39;00m\n\u001b[0;32m    853\u001b[0m \u001b[38;5;124;03m    \"\"\"\u001b[39;00m\n\u001b[1;32m--> 854\u001b[0m     \u001b[43mdefault_scheduler\u001b[49m\u001b[38;5;241;43m.\u001b[39;49m\u001b[43mrun_pending\u001b[49m\u001b[43m(\u001b[49m\u001b[43m)\u001b[49m\n",
      "File \u001b[1;32mc:\\Users\\Administrator\\Documents\\GitHub\\Weather_Dashboard\\venv\\Lib\\site-packages\\schedule\\__init__.py:101\u001b[0m, in \u001b[0;36mScheduler.run_pending\u001b[1;34m(self)\u001b[0m\n\u001b[0;32m     99\u001b[0m runnable_jobs \u001b[38;5;241m=\u001b[39m (job \u001b[38;5;28;01mfor\u001b[39;00m job \u001b[38;5;129;01min\u001b[39;00m \u001b[38;5;28mself\u001b[39m\u001b[38;5;241m.\u001b[39mjobs \u001b[38;5;28;01mif\u001b[39;00m job\u001b[38;5;241m.\u001b[39mshould_run)\n\u001b[0;32m    100\u001b[0m \u001b[38;5;28;01mfor\u001b[39;00m job \u001b[38;5;129;01min\u001b[39;00m \u001b[38;5;28msorted\u001b[39m(runnable_jobs):\n\u001b[1;32m--> 101\u001b[0m     \u001b[38;5;28;43mself\u001b[39;49m\u001b[38;5;241;43m.\u001b[39;49m\u001b[43m_run_job\u001b[49m\u001b[43m(\u001b[49m\u001b[43mjob\u001b[49m\u001b[43m)\u001b[49m\n",
      "File \u001b[1;32mc:\\Users\\Administrator\\Documents\\GitHub\\Weather_Dashboard\\venv\\Lib\\site-packages\\schedule\\__init__.py:173\u001b[0m, in \u001b[0;36mScheduler._run_job\u001b[1;34m(self, job)\u001b[0m\n\u001b[0;32m    172\u001b[0m \u001b[38;5;28;01mdef\u001b[39;00m \u001b[38;5;21m_run_job\u001b[39m(\u001b[38;5;28mself\u001b[39m, job: \u001b[38;5;124m\"\u001b[39m\u001b[38;5;124mJob\u001b[39m\u001b[38;5;124m\"\u001b[39m) \u001b[38;5;241m-\u001b[39m\u001b[38;5;241m>\u001b[39m \u001b[38;5;28;01mNone\u001b[39;00m:\n\u001b[1;32m--> 173\u001b[0m     ret \u001b[38;5;241m=\u001b[39m \u001b[43mjob\u001b[49m\u001b[38;5;241;43m.\u001b[39;49m\u001b[43mrun\u001b[49m\u001b[43m(\u001b[49m\u001b[43m)\u001b[49m\n\u001b[0;32m    174\u001b[0m     \u001b[38;5;28;01mif\u001b[39;00m \u001b[38;5;28misinstance\u001b[39m(ret, CancelJob) \u001b[38;5;129;01mor\u001b[39;00m ret \u001b[38;5;129;01mis\u001b[39;00m CancelJob:\n\u001b[0;32m    175\u001b[0m         \u001b[38;5;28mself\u001b[39m\u001b[38;5;241m.\u001b[39mcancel_job(job)\n",
      "File \u001b[1;32mc:\\Users\\Administrator\\Documents\\GitHub\\Weather_Dashboard\\venv\\Lib\\site-packages\\schedule\\__init__.py:691\u001b[0m, in \u001b[0;36mJob.run\u001b[1;34m(self)\u001b[0m\n\u001b[0;32m    688\u001b[0m     \u001b[38;5;28;01mreturn\u001b[39;00m CancelJob\n\u001b[0;32m    690\u001b[0m logger\u001b[38;5;241m.\u001b[39mdebug(\u001b[38;5;124m\"\u001b[39m\u001b[38;5;124mRunning job \u001b[39m\u001b[38;5;132;01m%s\u001b[39;00m\u001b[38;5;124m\"\u001b[39m, \u001b[38;5;28mself\u001b[39m)\n\u001b[1;32m--> 691\u001b[0m ret \u001b[38;5;241m=\u001b[39m \u001b[38;5;28;43mself\u001b[39;49m\u001b[38;5;241;43m.\u001b[39;49m\u001b[43mjob_func\u001b[49m\u001b[43m(\u001b[49m\u001b[43m)\u001b[49m\n\u001b[0;32m    692\u001b[0m \u001b[38;5;28mself\u001b[39m\u001b[38;5;241m.\u001b[39mlast_run \u001b[38;5;241m=\u001b[39m datetime\u001b[38;5;241m.\u001b[39mdatetime\u001b[38;5;241m.\u001b[39mnow()\n\u001b[0;32m    693\u001b[0m \u001b[38;5;28mself\u001b[39m\u001b[38;5;241m.\u001b[39m_schedule_next_run()\n",
      "Cell \u001b[1;32mIn[4], line 57\u001b[0m, in \u001b[0;36mupdate\u001b[1;34m()\u001b[0m\n\u001b[0;32m     14\u001b[0m conn\u001b[38;5;241m.\u001b[39mexecute(\u001b[38;5;124m\"\u001b[39m\u001b[38;5;124mCREATE SCHEMA IF NOT EXISTS raw\u001b[39m\u001b[38;5;124m\"\u001b[39m)\n\u001b[0;32m     15\u001b[0m conn\u001b[38;5;241m.\u001b[39mexecute(\u001b[38;5;124m\"\"\"\u001b[39m\n\u001b[0;32m     16\u001b[0m \u001b[38;5;124m         CREATE TABLE IF NOT EXISTS raw.DAILY_WEATHER_DATA (\u001b[39m\n\u001b[0;32m     17\u001b[0m \u001b[38;5;124m                name VARCHAR(100),\u001b[39m\n\u001b[1;32m   (...)\u001b[0m\n\u001b[0;32m     55\u001b[0m \n\u001b[0;32m     56\u001b[0m \u001b[38;5;124m         \u001b[39m\u001b[38;5;124m\"\"\"\u001b[39m)\n\u001b[1;32m---> 57\u001b[0m \u001b[43mconn\u001b[49m\u001b[38;5;241;43m.\u001b[39;49m\u001b[43mexecute\u001b[49m\u001b[43m(\u001b[49m\u001b[38;5;124;43m\"\u001b[39;49m\u001b[38;5;124;43mINSERT INTO raw.DAILY_WEATHER_DATA SELECT * FROM df\u001b[39;49m\u001b[38;5;124;43m\"\u001b[39;49m\u001b[43m)\u001b[49m\n\u001b[0;32m     58\u001b[0m conn\u001b[38;5;241m.\u001b[39mclose()\n",
      "\u001b[1;31mConstraintException\u001b[0m: Constraint Error: Duplicate key \"localtime_epoch: 1733288461\" violates primary key constraint. If this is an unexpected constraint violation please double check with the known index limitations section in our documentation (https://duckdb.org/docs/sql/indexes)."
     ]
    }
   ],
   "source": [
    "schedule.every(40).seconds.do(update)\n",
    "\n",
    "while True:\n",
    "    schedule.run_pending()\n",
    "    time.sleep(1)\n",
    "#update()"
   ]
  }
 ],
 "metadata": {
  "kernelspec": {
   "display_name": "venv",
   "language": "python",
   "name": "python3"
  },
  "language_info": {
   "codemirror_mode": {
    "name": "ipython",
    "version": 3
   },
   "file_extension": ".py",
   "mimetype": "text/x-python",
   "name": "python",
   "nbconvert_exporter": "python",
   "pygments_lexer": "ipython3",
   "version": "3.12.3"
  }
 },
 "nbformat": 4,
 "nbformat_minor": 2
}
